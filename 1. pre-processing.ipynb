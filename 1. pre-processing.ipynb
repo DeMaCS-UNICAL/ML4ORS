{
 "cells": [
  {
   "cell_type": "code",
   "execution_count": null,
   "metadata": {},
   "outputs": [
    {
     "name": "stdout",
     "output_type": "stream",
     "text": [
      "(10836, 32)\n",
      "File aggiornato con i cluster per gli elementi unici all'interno di ciascun REPARTO, senza mescolare reparti diversi.\n"
     ]
    }
   ],
   "source": [
    "import pandas as pd\n",
    "from sklearn.feature_extraction.text import TfidfVectorizer\n",
    "from sklearn.cluster import KMeans\n",
    "\n",
    "# 1. Upload Excel file\n",
    "file_path = \"../dati/intevernti_cleaned.xlsx\"  # Modifica con il percorso corretto\n",
    "df = pd.read_excel(file_path)\n",
    "print(df.shape)\n",
    "# 2. # Identify diagnoses that appear only once for each DEPARTMENT and apply clustering separately\n",
    "cluster_map = {}\n",
    "\n",
    "for reparto, df_reparto in df.groupby(\"REPARTO\"):\n",
    "    counts = df_reparto[\"DESCDIAGNOSI1\"].value_counts()\n",
    "    unique_values = counts[counts == 1].index  # unique value\n",
    "    \n",
    "    # Create a subset of the dataframe with only these elements\n",
    "    df_unique = df_reparto[df_reparto[\"DESCDIAGNOSI1\"].isin(unique_values)].copy()\n",
    "    \n",
    "    if not df_unique.empty:\n",
    "        # Convert text to numbers using TF-IDF\n",
    "        vectorizer = TfidfVectorizer(stop_words=\"english\")\n",
    "        X = vectorizer.fit_transform(df_unique[\"DESCDIAGNOSI1\"].astype(str))\n",
    "        \n",
    "        # Apply K-Means with maximum 3 clusters or less if there are fewer elements\n",
    "        num_clusters = min(3, len(df_unique))\n",
    "        if num_clusters > 1:\n",
    "            kmeans = KMeans(n_clusters=num_clusters, random_state=42)\n",
    "            df_unique[\"Cluster\"] = kmeans.fit_predict(X)\n",
    "            \n",
    "            # Update the \"DESCDIAGNOSI1\" column in the original dataframe\n",
    "            for idx, row in df_unique.iterrows():\n",
    "                cluster_map[row[\"DESCDIAGNOSI1\"]] = f\"{reparto}_Cluster_{row['Cluster']}\"\n",
    "\n",
    "# 3. Replace original values ​​with cluster name only for unique items\n",
    "df[\"DESCDIAGNOSI1\"] = df[\"DESCDIAGNOSI1\"].apply(lambda x: cluster_map.get(x, x))\n",
    "\n",
    "# 4. Save the updated file\n",
    "df.to_excel(\"clustered_interventions_by_department.xlsx\", index=False)\n",
    "\n"
   ]
  },
  {
   "cell_type": "markdown",
   "metadata": {},
   "source": [
    "## remove outlier"
   ]
  },
  {
   "cell_type": "code",
   "execution_count": null,
   "metadata": {},
   "outputs": [
    {
     "name": "stdout",
     "output_type": "stream",
     "text": [
      "File aggiornato senza outlier salvato come 'interventi_senza_outlier.xlsx'.\n"
     ]
    }
   ],
   "source": [
    "# Convert dates\n",
    "df['INGRESSOSALA'] = pd.to_datetime(df['INGRESSOSALA'], format='%d/%m/%Y %H:%M')\n",
    "df['USCITASALA'] = pd.to_datetime(df['USCITASALA'], format='%d/%m/%Y %H:%M')\n",
    "\n",
    "# compute duration in minutes\n",
    "df['DURATA'] = (df['USCITASALA'] - df['INGRESSOSALA']).dt.total_seconds() / 60\n",
    "\n",
    "import pandas as pd\n",
    "import matplotlib.pyplot as plt\n",
    "import seaborn as sns\n",
    "\n",
    "# Using Seaborn to plot point distribution\n",
    "plt.figure(figsize=(8, 6))\n",
    "sns.histplot(df['DURATA'], kde=True, bins=10, color='skyblue')\n",
    "\n",
    "plt.title('Distribution of Points')\n",
    "plt.xlabel('Duration')\n",
    "plt.ylabel('Items')\n",
    "\n",
    "plt.show()\n",
    "\n",
    "# Plot histogram of durations\n",
    "plt.figure(figsize=(10, 6))\n",
    "plt.hist(df['DURATA'], bins=50, color='skyblue', edgecolor='black')\n",
    "plt.title('Distribution of the duration of the interventions', fontsize=16)\n",
    "plt.xlabel('Duration (minutes)', fontsize=14)\n",
    "plt.ylabel('Frequence', fontsize=14)\n",
    "plt.grid(axis='y', linestyle='--', alpha=0.7)\n",
    "plt.show()\n",
    "\n",
    "# Boxplot of durations\n",
    "plt.figure(figsize=(8, 6))\n",
    "plt.boxplot(df['DURATA'], vert=False, patch_artist=True, \n",
    "            boxprops=dict(facecolor='lightblue', color='blue'),\n",
    "            whiskerprops=dict(color='blue'), capprops=dict(color='blue'),\n",
    "            medianprops=dict(color='red'))\n",
    "plt.title('Boxplot of the duration of the interventions', fontsize=16)\n",
    "plt.xlabel('Duration (minutes)', fontsize=14)\n",
    "plt.show()\n"
   ]
  },
  {
   "cell_type": "code",
   "execution_count": null,
   "metadata": {},
   "outputs": [],
   "source": [
    "\n",
    "\n",
    "# Identifying outliers with the IQR method\n",
    "Q1 = df['DURATA'].quantile(0.25)\n",
    "Q3 = df['DURATA'].quantile(0.75)\n",
    "IQR = Q3 - Q1\n",
    "\n",
    "# Define limits to detect outliers\n",
    "lower_bound = Q1 - 1.5 * IQR\n",
    "upper_bound = Q3 + 1.5 * IQR\n",
    "\n",
    "# Filter the data by removing outliers\n",
    "df_filtered = df[(df['DURATA'] >= lower_bound) & (df['DURATA'] <= upper_bound)]\n",
    "\n",
    "# Save the new file without outliers\n",
    "df_filtered.to_excel(\"interventions_per_department_without_outliers.xlsx\", index=False)\n"
   ]
  }
 ],
 "metadata": {
  "kernelspec": {
   "display_name": "radiomics",
   "language": "python",
   "name": "python3"
  },
  "language_info": {
   "codemirror_mode": {
    "name": "ipython",
    "version": 3
   },
   "file_extension": ".py",
   "mimetype": "text/x-python",
   "name": "python",
   "nbconvert_exporter": "python",
   "pygments_lexer": "ipython3",
   "version": "3.8.18"
  }
 },
 "nbformat": 4,
 "nbformat_minor": 2
}
