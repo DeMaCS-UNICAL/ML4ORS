{
 "cells": [
  {
   "cell_type": "code",
   "execution_count": null,
   "metadata": {},
   "outputs": [],
   "source": [
    "import pandas as pd\n",
    "exp = 16 #insert best experiment ID\n",
    "# Load the Excel file\n",
    "output_path = 'DIRECTORY/'+str(exp)\n",
    "file_path = output_path+'output.xlsx'\n",
    "xls = pd.ExcelFile(file_path)\n",
    "\n",
    "# Display sheet names to understand the structure\n",
    "xls.sheet_names\n"
   ]
  },
  {
   "cell_type": "code",
   "execution_count": null,
   "metadata": {},
   "outputs": [],
   "source": [
    "# Load the data from the first sheet\n",
    "df = xls.parse('Sheet1')\n",
    "# Display basic info and the first few rows\n",
    "df.info(), df.head()\n"
   ]
  },
  {
   "cell_type": "markdown",
   "metadata": {},
   "source": [
    "## Defining the Confidence Ranges\n",
    "To create four macro areas based on prediction accuracy, I'll compute the absolute percentage error (APE):\n",
    "\n",
    "APE = ((Pred − Ground Truth)/Ground Truth) × 100\n",
    "\n",
    "Then, I'll categorize the predictions into four confidence ranges:\n",
    "\n",
    "High Confidence: APE < 10%\n",
    "Moderate Confidence: 10% ≤ APE < 25%\n",
    "Low Confidence: 25% ≤ APE < 50%\n",
    "Very Low Confidence: APE ≥ 50%"
   ]
  },
  {
   "cell_type": "code",
   "execution_count": null,
   "metadata": {},
   "outputs": [],
   "source": [
    "# Compute Absolute Percentage Error (APE)\n",
    "df[\"APE\"] = abs(df[\"Pred\"] - df[\"Ground Truth\"]) / df[\"Ground Truth\"] * 100\n",
    "\n",
    "# Define confidence categories based on APE\n",
    "def confidence_category(ape):\n",
    "    if ape < 10:\n",
    "        return \"High Confidence\"\n",
    "    elif 10 <= ape < 25:\n",
    "        return \"Moderate Confidence\"\n",
    "    elif 25 <= ape < 50:\n",
    "        return \"Low Confidence\"\n",
    "    else:\n",
    "        return \"Very Low Confidence\"\n",
    "\n",
    "# Apply categorization\n",
    "df[\"Confidence Range\"] = df[\"APE\"].apply(confidence_category)\n",
    "\n",
    "# Save updated file\n",
    "updated_file_path = output_path+\"/best_with_confidence_ranges.xlsx\"\n",
    "df.to_excel(updated_file_path, index=False)\n",
    "\n",
    "# Show value counts of each category to confirm distribution\n",
    "df[\"Confidence Range\"].value_counts()\n"
   ]
  }
 ],
 "metadata": {
  "kernelspec": {
   "display_name": "radiomics",
   "language": "python",
   "name": "python3"
  },
  "language_info": {
   "codemirror_mode": {
    "name": "ipython",
    "version": 3
   },
   "file_extension": ".py",
   "mimetype": "text/x-python",
   "name": "python",
   "nbconvert_exporter": "python",
   "pygments_lexer": "ipython3",
   "version": "3.8.18"
  }
 },
 "nbformat": 4,
 "nbformat_minor": 2
}
